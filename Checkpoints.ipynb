{
 "cells": [
  {
   "cell_type": "markdown",
   "id": "28d68be2-fbc8-4ff4-85bb-894ca9c7bda9",
   "metadata": {},
   "source": [
    "Libraries"
   ]
  },
  {
   "cell_type": "code",
   "execution_count": 1,
   "id": "ae51c949-17f7-4ec1-bdad-ec6e9fff31e6",
   "metadata": {},
   "outputs": [],
   "source": [
    "import pandas as pd\n",
    "import numpy as np\n",
    "from sklearn.metrics import accuracy_score\n",
    "from sklearn.linear_model import LogisticRegression\n",
    "from sklearn.metrics import confusion_matrix\n",
    "from sklearn.model_selection import train_test_split\n",
    "from sklearn.naive_bayes import GaussianNB"
   ]
  },
  {
   "cell_type": "markdown",
   "id": "2f22fcae-a2ca-4f72-ac1c-e817cb2a9a57",
   "metadata": {},
   "source": [
    "Read data"
   ]
  },
  {
   "cell_type": "code",
   "execution_count": 33,
   "id": "1989751e-0116-4882-b4c9-b4a3e2ac671c",
   "metadata": {},
   "outputs": [],
   "source": [
    "train = pd.read_csv('train.csv')\n",
    "test=pd.read_csv('Test.csv')"
   ]
  },
  {
   "cell_type": "code",
   "execution_count": 35,
   "id": "57970faf-3d73-42c9-a730-0d0b3f15a7f2",
   "metadata": {},
   "outputs": [
    {
     "name": "stdout",
     "output_type": "stream",
     "text": [
      "<class 'pandas.core.frame.DataFrame'>\n",
      "RangeIndex: 8143 entries, 0 to 8142\n",
      "Data columns (total 6 columns):\n",
      " #   Column         Non-Null Count  Dtype  \n",
      "---  ------         --------------  -----  \n",
      " 0   Temperature    8143 non-null   float64\n",
      " 1   Humidity       8143 non-null   float64\n",
      " 2   Light          8143 non-null   float64\n",
      " 3   CO2            8143 non-null   float64\n",
      " 4   HumidityRatio  8143 non-null   float64\n",
      " 5   Occupancy      8143 non-null   int64  \n",
      "dtypes: float64(5), int64(1)\n",
      "memory usage: 381.8 KB\n"
     ]
    }
   ],
   "source": [
    "train.info()"
   ]
  },
  {
   "cell_type": "code",
   "execution_count": 37,
   "id": "ffe1e765-9405-4613-b6ae-59c106c66d9e",
   "metadata": {},
   "outputs": [
    {
     "name": "stdout",
     "output_type": "stream",
     "text": [
      "<class 'pandas.core.frame.DataFrame'>\n",
      "RangeIndex: 2665 entries, 0 to 2664\n",
      "Data columns (total 6 columns):\n",
      " #   Column         Non-Null Count  Dtype  \n",
      "---  ------         --------------  -----  \n",
      " 0   Temperature    2665 non-null   float64\n",
      " 1   Humidity       2665 non-null   float64\n",
      " 2   Light          2665 non-null   float64\n",
      " 3   CO2            2665 non-null   float64\n",
      " 4   HumidityRatio  2665 non-null   float64\n",
      " 5   Occupancy      2665 non-null   int64  \n",
      "dtypes: float64(5), int64(1)\n",
      "memory usage: 125.1 KB\n"
     ]
    }
   ],
   "source": [
    "test.info()"
   ]
  },
  {
   "cell_type": "code",
   "execution_count": 39,
   "id": "705384c8-ee1c-4c88-87f4-9236b72152b7",
   "metadata": {},
   "outputs": [
    {
     "data": {
      "text/html": [
       "<div>\n",
       "<style scoped>\n",
       "    .dataframe tbody tr th:only-of-type {\n",
       "        vertical-align: middle;\n",
       "    }\n",
       "\n",
       "    .dataframe tbody tr th {\n",
       "        vertical-align: top;\n",
       "    }\n",
       "\n",
       "    .dataframe thead th {\n",
       "        text-align: right;\n",
       "    }\n",
       "</style>\n",
       "<table border=\"1\" class=\"dataframe\">\n",
       "  <thead>\n",
       "    <tr style=\"text-align: right;\">\n",
       "      <th></th>\n",
       "      <th>Temperature</th>\n",
       "      <th>Humidity</th>\n",
       "      <th>Light</th>\n",
       "      <th>CO2</th>\n",
       "      <th>HumidityRatio</th>\n",
       "      <th>Occupancy</th>\n",
       "    </tr>\n",
       "  </thead>\n",
       "  <tbody>\n",
       "    <tr>\n",
       "      <th>0</th>\n",
       "      <td>23.18</td>\n",
       "      <td>27.2720</td>\n",
       "      <td>426.0</td>\n",
       "      <td>721.250000</td>\n",
       "      <td>0.004793</td>\n",
       "      <td>1</td>\n",
       "    </tr>\n",
       "    <tr>\n",
       "      <th>1</th>\n",
       "      <td>23.15</td>\n",
       "      <td>27.2675</td>\n",
       "      <td>429.5</td>\n",
       "      <td>714.000000</td>\n",
       "      <td>0.004783</td>\n",
       "      <td>1</td>\n",
       "    </tr>\n",
       "    <tr>\n",
       "      <th>2</th>\n",
       "      <td>23.15</td>\n",
       "      <td>27.2450</td>\n",
       "      <td>426.0</td>\n",
       "      <td>713.500000</td>\n",
       "      <td>0.004779</td>\n",
       "      <td>1</td>\n",
       "    </tr>\n",
       "    <tr>\n",
       "      <th>3</th>\n",
       "      <td>23.15</td>\n",
       "      <td>27.2000</td>\n",
       "      <td>426.0</td>\n",
       "      <td>708.250000</td>\n",
       "      <td>0.004772</td>\n",
       "      <td>1</td>\n",
       "    </tr>\n",
       "    <tr>\n",
       "      <th>4</th>\n",
       "      <td>23.10</td>\n",
       "      <td>27.2000</td>\n",
       "      <td>426.0</td>\n",
       "      <td>704.500000</td>\n",
       "      <td>0.004757</td>\n",
       "      <td>1</td>\n",
       "    </tr>\n",
       "    <tr>\n",
       "      <th>...</th>\n",
       "      <td>...</td>\n",
       "      <td>...</td>\n",
       "      <td>...</td>\n",
       "      <td>...</td>\n",
       "      <td>...</td>\n",
       "      <td>...</td>\n",
       "    </tr>\n",
       "    <tr>\n",
       "      <th>8138</th>\n",
       "      <td>21.05</td>\n",
       "      <td>36.0975</td>\n",
       "      <td>433.0</td>\n",
       "      <td>787.250000</td>\n",
       "      <td>0.005579</td>\n",
       "      <td>1</td>\n",
       "    </tr>\n",
       "    <tr>\n",
       "      <th>8139</th>\n",
       "      <td>21.05</td>\n",
       "      <td>35.9950</td>\n",
       "      <td>433.0</td>\n",
       "      <td>789.500000</td>\n",
       "      <td>0.005563</td>\n",
       "      <td>1</td>\n",
       "    </tr>\n",
       "    <tr>\n",
       "      <th>8140</th>\n",
       "      <td>21.10</td>\n",
       "      <td>36.0950</td>\n",
       "      <td>433.0</td>\n",
       "      <td>798.500000</td>\n",
       "      <td>0.005596</td>\n",
       "      <td>1</td>\n",
       "    </tr>\n",
       "    <tr>\n",
       "      <th>8141</th>\n",
       "      <td>21.10</td>\n",
       "      <td>36.2600</td>\n",
       "      <td>433.0</td>\n",
       "      <td>820.333333</td>\n",
       "      <td>0.005621</td>\n",
       "      <td>1</td>\n",
       "    </tr>\n",
       "    <tr>\n",
       "      <th>8142</th>\n",
       "      <td>21.10</td>\n",
       "      <td>36.2000</td>\n",
       "      <td>447.0</td>\n",
       "      <td>821.000000</td>\n",
       "      <td>0.005612</td>\n",
       "      <td>1</td>\n",
       "    </tr>\n",
       "  </tbody>\n",
       "</table>\n",
       "<p>8143 rows × 6 columns</p>\n",
       "</div>"
      ],
      "text/plain": [
       "      Temperature  Humidity  Light         CO2  HumidityRatio  Occupancy\n",
       "0           23.18   27.2720  426.0  721.250000       0.004793          1\n",
       "1           23.15   27.2675  429.5  714.000000       0.004783          1\n",
       "2           23.15   27.2450  426.0  713.500000       0.004779          1\n",
       "3           23.15   27.2000  426.0  708.250000       0.004772          1\n",
       "4           23.10   27.2000  426.0  704.500000       0.004757          1\n",
       "...           ...       ...    ...         ...            ...        ...\n",
       "8138        21.05   36.0975  433.0  787.250000       0.005579          1\n",
       "8139        21.05   35.9950  433.0  789.500000       0.005563          1\n",
       "8140        21.10   36.0950  433.0  798.500000       0.005596          1\n",
       "8141        21.10   36.2600  433.0  820.333333       0.005621          1\n",
       "8142        21.10   36.2000  447.0  821.000000       0.005612          1\n",
       "\n",
       "[8143 rows x 6 columns]"
      ]
     },
     "execution_count": 39,
     "metadata": {},
     "output_type": "execute_result"
    }
   ],
   "source": [
    "train"
   ]
  },
  {
   "cell_type": "code",
   "execution_count": 41,
   "id": "dc87ba48-8df5-4c25-8ca4-561a47920059",
   "metadata": {},
   "outputs": [
    {
     "data": {
      "text/html": [
       "<div>\n",
       "<style scoped>\n",
       "    .dataframe tbody tr th:only-of-type {\n",
       "        vertical-align: middle;\n",
       "    }\n",
       "\n",
       "    .dataframe tbody tr th {\n",
       "        vertical-align: top;\n",
       "    }\n",
       "\n",
       "    .dataframe thead th {\n",
       "        text-align: right;\n",
       "    }\n",
       "</style>\n",
       "<table border=\"1\" class=\"dataframe\">\n",
       "  <thead>\n",
       "    <tr style=\"text-align: right;\">\n",
       "      <th></th>\n",
       "      <th>Temperature</th>\n",
       "      <th>Humidity</th>\n",
       "      <th>Light</th>\n",
       "      <th>CO2</th>\n",
       "      <th>HumidityRatio</th>\n",
       "      <th>Occupancy</th>\n",
       "    </tr>\n",
       "  </thead>\n",
       "  <tbody>\n",
       "    <tr>\n",
       "      <th>0</th>\n",
       "      <td>23.18</td>\n",
       "      <td>27.2720</td>\n",
       "      <td>426.0</td>\n",
       "      <td>721.25</td>\n",
       "      <td>0.004793</td>\n",
       "      <td>1</td>\n",
       "    </tr>\n",
       "    <tr>\n",
       "      <th>1</th>\n",
       "      <td>23.15</td>\n",
       "      <td>27.2675</td>\n",
       "      <td>429.5</td>\n",
       "      <td>714.00</td>\n",
       "      <td>0.004783</td>\n",
       "      <td>1</td>\n",
       "    </tr>\n",
       "    <tr>\n",
       "      <th>2</th>\n",
       "      <td>23.15</td>\n",
       "      <td>27.2450</td>\n",
       "      <td>426.0</td>\n",
       "      <td>713.50</td>\n",
       "      <td>0.004779</td>\n",
       "      <td>1</td>\n",
       "    </tr>\n",
       "    <tr>\n",
       "      <th>3</th>\n",
       "      <td>23.15</td>\n",
       "      <td>27.2000</td>\n",
       "      <td>426.0</td>\n",
       "      <td>708.25</td>\n",
       "      <td>0.004772</td>\n",
       "      <td>1</td>\n",
       "    </tr>\n",
       "    <tr>\n",
       "      <th>4</th>\n",
       "      <td>23.10</td>\n",
       "      <td>27.2000</td>\n",
       "      <td>426.0</td>\n",
       "      <td>704.50</td>\n",
       "      <td>0.004757</td>\n",
       "      <td>1</td>\n",
       "    </tr>\n",
       "  </tbody>\n",
       "</table>\n",
       "</div>"
      ],
      "text/plain": [
       "   Temperature  Humidity  Light     CO2  HumidityRatio  Occupancy\n",
       "0        23.18   27.2720  426.0  721.25       0.004793          1\n",
       "1        23.15   27.2675  429.5  714.00       0.004783          1\n",
       "2        23.15   27.2450  426.0  713.50       0.004779          1\n",
       "3        23.15   27.2000  426.0  708.25       0.004772          1\n",
       "4        23.10   27.2000  426.0  704.50       0.004757          1"
      ]
     },
     "execution_count": 41,
     "metadata": {},
     "output_type": "execute_result"
    }
   ],
   "source": [
    "train.head()"
   ]
  },
  {
   "cell_type": "code",
   "execution_count": 43,
   "id": "b3a740da-bb4a-48e8-8449-64e0e9f7c0fa",
   "metadata": {},
   "outputs": [
    {
     "data": {
      "text/plain": [
       "(8143, 6)"
      ]
     },
     "execution_count": 43,
     "metadata": {},
     "output_type": "execute_result"
    }
   ],
   "source": [
    "train.shape"
   ]
  },
  {
   "cell_type": "code",
   "execution_count": 45,
   "id": "d4ee699b-1c6c-4485-a332-144d1d14c49f",
   "metadata": {},
   "outputs": [
    {
     "data": {
      "text/plain": [
       "(2665, 6)"
      ]
     },
     "execution_count": 45,
     "metadata": {},
     "output_type": "execute_result"
    }
   ],
   "source": [
    "test.shape"
   ]
  },
  {
   "cell_type": "markdown",
   "id": "53bfa25b-9af3-4f7f-9885-645e87b5c413",
   "metadata": {},
   "source": [
    "creating train and test for independent and dependent varaibles"
   ]
  },
  {
   "cell_type": "code",
   "execution_count": 49,
   "id": "3dc6294a-038d-421e-a6ac-2e5ed8e41574",
   "metadata": {},
   "outputs": [],
   "source": [
    "x_t= train.drop('Occupancy',axis=1)\n",
    "y_t=train['Occupancy']\n",
    "x_test=test.drop('Occupancy',axis=1)\n",
    "y_test=test['Occupancy']"
   ]
  },
  {
   "cell_type": "markdown",
   "id": "d50a0411-a85a-4380-9e88-21a9cd933df8",
   "metadata": {},
   "source": [
    "feature scaling"
   ]
  },
  {
   "cell_type": "code",
   "execution_count": 59,
   "id": "41f2b8dc-5b18-475e-94a7-e63228b35f80",
   "metadata": {},
   "outputs": [],
   "source": [
    "from sklearn.preprocessing import StandardScaler\n",
    "s=StandardScaler()\n",
    "x_t=s.fit_transform(x_t)\n",
    "x_test=s.fit_transform(x_test)"
   ]
  },
  {
   "cell_type": "code",
   "execution_count": 61,
   "id": "3d8d95ea-f02a-4082-9a8c-47af84d23890",
   "metadata": {},
   "outputs": [
    {
     "data": {
      "text/plain": [
       "array([[2.51847007, 0.27852622, 1.57376283, 0.36494808, 1.09175673],\n",
       "       [2.48896731, 0.27771261, 1.59173515, 0.34188106, 1.080555  ],\n",
       "       [2.48896731, 0.27364453, 1.57376283, 0.34029023, 1.07588869],\n",
       "       ...,\n",
       "       [0.47294534, 1.87375407, 1.60970748, 0.61073113, 2.033527  ],\n",
       "       [0.47294534, 1.90358662, 1.60970748, 0.68019732, 2.06381051],\n",
       "       [0.47294534, 1.89273842, 1.68159679, 0.68231843, 2.05279885]])"
      ]
     },
     "execution_count": 61,
     "metadata": {},
     "output_type": "execute_result"
    }
   ],
   "source": [
    "x_t"
   ]
  },
  {
   "cell_type": "code",
   "execution_count": 63,
   "id": "07fb0cfd-775f-4ee1-bdeb-d968c0b8f8de",
   "metadata": {},
   "outputs": [
    {
     "data": {
      "text/plain": [
       "array([[2.20476235, 0.37681367, 1.56686218, 0.10694007, 1.20754018],\n",
       "       [2.22227495, 0.38420166, 1.53968001, 0.14521407, 1.22146087],\n",
       "       [2.23395002, 0.35957501, 1.51676171, 0.17688126, 1.20916191],\n",
       "       ...,\n",
       "       [2.81770341, 0.14203962, 2.4934545 , 1.39390353, 1.33301316],\n",
       "       [2.84364801, 0.14203962, 2.47746498, 1.38433502, 1.34579044],\n",
       "       [2.89391566, 0.13451481, 2.41750431, 1.38775235, 1.36487283]])"
      ]
     },
     "execution_count": 63,
     "metadata": {},
     "output_type": "execute_result"
    }
   ],
   "source": [
    "x_test"
   ]
  },
  {
   "cell_type": "markdown",
   "id": "d417df2c-36d2-46a4-a2c7-7796f27b1ea7",
   "metadata": {},
   "source": [
    "Encoding categorical Values"
   ]
  },
  {
   "cell_type": "code",
   "execution_count": 68,
   "id": "7aca2155-a172-4180-9dc4-4790fe2fb0fc",
   "metadata": {},
   "outputs": [],
   "source": [
    "from sklearn.preprocessing import LabelEncoder\n",
    "l_y= LabelEncoder()\n",
    "y_t=l_y.fit_transform(y_t)\n",
    "y_test=l_y.fit_transform(y_test)"
   ]
  },
  {
   "cell_type": "code",
   "execution_count": 70,
   "id": "1e7df008-1e5f-430d-9cab-6fd0520dc72a",
   "metadata": {},
   "outputs": [
    {
     "data": {
      "text/plain": [
       "array([1, 1, 1, ..., 1, 1, 1], dtype=int64)"
      ]
     },
     "execution_count": 70,
     "metadata": {},
     "output_type": "execute_result"
    }
   ],
   "source": [
    "y_t"
   ]
  },
  {
   "cell_type": "code",
   "execution_count": 72,
   "id": "a301a67c-d32e-491c-8281-74f9c486f3fd",
   "metadata": {},
   "outputs": [
    {
     "data": {
      "text/plain": [
       "array([1, 1, 1, ..., 1, 1, 1], dtype=int64)"
      ]
     },
     "execution_count": 72,
     "metadata": {},
     "output_type": "execute_result"
    }
   ],
   "source": [
    "y_test"
   ]
  },
  {
   "cell_type": "markdown",
   "id": "bdff047f-ad7a-4f0e-a2ab-edbdb2c4ecba",
   "metadata": {},
   "source": [
    "Naive Bayes Model Accuracy"
   ]
  },
  {
   "cell_type": "code",
   "execution_count": 76,
   "id": "1a1b8fd5-f9dc-4ffd-9aa3-c5b2aa59f2df",
   "metadata": {},
   "outputs": [
    {
     "name": "stdout",
     "output_type": "stream",
     "text": [
      "0.9788775635515167\n",
      "0.9039399624765478\n"
     ]
    }
   ],
   "source": [
    "NO=GaussianNB()\n",
    "NO.fit(x_t,y_t)\n",
    "print(NO.score(x_t,y_t))\n",
    "print(NO.score(x_test,y_test))"
   ]
  },
  {
   "cell_type": "markdown",
   "id": "b0600e48-f037-4364-8fa7-0e48cb961ab2",
   "metadata": {},
   "source": [
    "Predicting values for test data"
   ]
  },
  {
   "cell_type": "code",
   "execution_count": 81,
   "id": "1677aad3-edae-42b0-8769-15412f9d06d6",
   "metadata": {},
   "outputs": [],
   "source": [
    "N_pred= NO.predict(x_test)"
   ]
  },
  {
   "cell_type": "markdown",
   "id": "33e04d9f-5dc2-4d21-8aeb-9a740a884902",
   "metadata": {},
   "source": [
    "Confusion matrix for the model"
   ]
  },
  {
   "cell_type": "code",
   "execution_count": 84,
   "id": "ad6adb32-cd2b-452e-ab04-de54b4ad8b12",
   "metadata": {},
   "outputs": [
    {
     "name": "stdout",
     "output_type": "stream",
     "text": [
      "[[1682   11]\n",
      " [ 245  727]]\n"
     ]
    }
   ],
   "source": [
    "n_r=confusion_matrix(y_test,N_pred)\n",
    "print(n_r)"
   ]
  },
  {
   "cell_type": "code",
   "execution_count": null,
   "id": "04caa092-8df8-4984-996d-9312103ba5d8",
   "metadata": {},
   "outputs": [],
   "source": []
  }
 ],
 "metadata": {
  "kernelspec": {
   "display_name": "Python 3 (ipykernel)",
   "language": "python",
   "name": "python3"
  },
  "language_info": {
   "codemirror_mode": {
    "name": "ipython",
    "version": 3
   },
   "file_extension": ".py",
   "mimetype": "text/x-python",
   "name": "python",
   "nbconvert_exporter": "python",
   "pygments_lexer": "ipython3",
   "version": "3.12.4"
  }
 },
 "nbformat": 4,
 "nbformat_minor": 5
}
